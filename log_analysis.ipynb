{
 "cells": [
  {
   "cell_type": "markdown",
   "metadata": {},
   "source": [
    "# Jupyter Ascending: Using Jupyter in Infosec"
   ]
  },
  {
   "cell_type": "markdown",
   "metadata": {},
   "source": [
    "## Part 1: Log Analysis"
   ]
  },
  {
   "cell_type": "code",
   "execution_count": 1,
   "metadata": {},
   "outputs": [],
   "source": [
    "# Let's start by importing helpful modules\n",
    "import pandas as pd\n",
    "import matplotlib.pyplot as plt\n",
    "import seaborn as sns"
   ]
  },
  {
   "cell_type": "code",
   "execution_count": 2,
   "metadata": {},
   "outputs": [],
   "source": [
    "# Now, let's import some files\n",
    "with open(\"www1/access.log\") as f:\n",
    "    access_log = f.readlines()\n",
    "\n",
    "with open(\"www1/secure.log\") as f:\n",
    "    secure_log = f.readlines()"
   ]
  },
  {
   "cell_type": "code",
   "execution_count": 3,
   "metadata": {},
   "outputs": [
    {
     "name": "stdout",
     "output_type": "stream",
     "text": [
      "209.160.24.63 - - [11/Mar/2020:18:22:16] \"GET /product.screen?productId=WC-SH-A02&JSESSIONID=SD0SL6FF7ADFF4953 HTTP 1.1\" 200 3878 \"http://www.google.com\" \"Mozilla/5.0 (Windows NT 6.1; WOW64) AppleWebKit/536.5 (KHTML, like Gecko) Chrome/19.0.1084.46 Safari/536.5\" 349\n",
      "\n",
      "Thu Mar 11 2020 00:15:02 www1 sshd[4747]: Failed password for invalid user jabber from 118.142.68.222 port 3187 ssh2\n",
      "\n"
     ]
    }
   ],
   "source": [
    "# Let's investigate what a log line looks like:\n",
    "print(access_log[0])\n",
    "print(secure_log[0])"
   ]
  },
  {
   "cell_type": "markdown",
   "metadata": {},
   "source": [
    "### Breaking down the log\n",
    "\n",
    "Unfortunately, logfiles are just plaintext, so if we want to structure the data, it's up to us. There are many approaches to doing this, but I find the easiest to be building up the [pandas](https://pandas.pydata.org/) DataFrame column by column. It'll become clear as we go."
   ]
  },
  {
   "cell_type": "code",
   "execution_count": 4,
   "metadata": {},
   "outputs": [],
   "source": [
    "access_df = pd.DataFrame({\"raw\": access_log})\n",
    "secure_df = pd.DataFrame({\"raw\": secure_log})"
   ]
  },
  {
   "cell_type": "code",
   "execution_count": 5,
   "metadata": {},
   "outputs": [
    {
     "name": "stdout",
     "output_type": "stream",
     "text": [
      "(13628, 1)\n",
      "(10593, 1)\n"
     ]
    }
   ],
   "source": [
    "# Check out the shape of our DataFrames\n",
    "print(access_df.shape)\n",
    "print(secure_df.shape)"
   ]
  },
  {
   "cell_type": "markdown",
   "metadata": {},
   "source": [
    "Okay, so not an exact match for number of rows, but pretty close! The more data the better, especially as we try to correlate the security log with the access log."
   ]
  },
  {
   "cell_type": "code",
   "execution_count": 6,
   "metadata": {},
   "outputs": [
    {
     "data": {
      "text/html": [
       "<div>\n",
       "<style scoped>\n",
       "    .dataframe tbody tr th:only-of-type {\n",
       "        vertical-align: middle;\n",
       "    }\n",
       "\n",
       "    .dataframe tbody tr th {\n",
       "        vertical-align: top;\n",
       "    }\n",
       "\n",
       "    .dataframe thead th {\n",
       "        text-align: right;\n",
       "    }\n",
       "</style>\n",
       "<table border=\"1\" class=\"dataframe\">\n",
       "  <thead>\n",
       "    <tr style=\"text-align: right;\">\n",
       "      <th></th>\n",
       "      <th>raw</th>\n",
       "    </tr>\n",
       "  </thead>\n",
       "  <tbody>\n",
       "    <tr>\n",
       "      <th>0</th>\n",
       "      <td>209.160.24.63 - - [11/Mar/2020:18:22:16] \"GET ...</td>\n",
       "    </tr>\n",
       "    <tr>\n",
       "      <th>1</th>\n",
       "      <td>209.160.24.63 - - [11/Mar/2020:18:22:16] \"GET ...</td>\n",
       "    </tr>\n",
       "    <tr>\n",
       "      <th>2</th>\n",
       "      <td>209.160.24.63 - - [11/Mar/2020:18:22:17] \"GET ...</td>\n",
       "    </tr>\n",
       "    <tr>\n",
       "      <th>3</th>\n",
       "      <td>209.160.24.63 - - [11/Mar/2020:18:22:19] \"POST...</td>\n",
       "    </tr>\n",
       "    <tr>\n",
       "      <th>4</th>\n",
       "      <td>209.160.24.63 - - [11/Mar/2020:18:22:20] \"GET ...</td>\n",
       "    </tr>\n",
       "  </tbody>\n",
       "</table>\n",
       "</div>"
      ],
      "text/plain": [
       "                                                 raw\n",
       "0  209.160.24.63 - - [11/Mar/2020:18:22:16] \"GET ...\n",
       "1  209.160.24.63 - - [11/Mar/2020:18:22:16] \"GET ...\n",
       "2  209.160.24.63 - - [11/Mar/2020:18:22:17] \"GET ...\n",
       "3  209.160.24.63 - - [11/Mar/2020:18:22:19] \"POST...\n",
       "4  209.160.24.63 - - [11/Mar/2020:18:22:20] \"GET ..."
      ]
     },
     "execution_count": 6,
     "metadata": {},
     "output_type": "execute_result"
    }
   ],
   "source": [
    "# Take a peek at the first 5 rows\n",
    "access_df.head()"
   ]
  },
  {
   "cell_type": "code",
   "execution_count": 7,
   "metadata": {},
   "outputs": [
    {
     "data": {
      "text/html": [
       "<div>\n",
       "<style scoped>\n",
       "    .dataframe tbody tr th:only-of-type {\n",
       "        vertical-align: middle;\n",
       "    }\n",
       "\n",
       "    .dataframe tbody tr th {\n",
       "        vertical-align: top;\n",
       "    }\n",
       "\n",
       "    .dataframe thead th {\n",
       "        text-align: right;\n",
       "    }\n",
       "</style>\n",
       "<table border=\"1\" class=\"dataframe\">\n",
       "  <thead>\n",
       "    <tr style=\"text-align: right;\">\n",
       "      <th></th>\n",
       "      <th>raw</th>\n",
       "    </tr>\n",
       "  </thead>\n",
       "  <tbody>\n",
       "    <tr>\n",
       "      <th>0</th>\n",
       "      <td>Thu Mar 11 2020 00:15:02 www1 sshd[4747]: Fail...</td>\n",
       "    </tr>\n",
       "    <tr>\n",
       "      <th>1</th>\n",
       "      <td>Thu Mar 11 2020 00:15:02 www1 sshd[4111]: Fail...</td>\n",
       "    </tr>\n",
       "    <tr>\n",
       "      <th>2</th>\n",
       "      <td>Thu Mar 11 2020 00:15:02 www1 sshd[5359]: Fail...</td>\n",
       "    </tr>\n",
       "    <tr>\n",
       "      <th>3</th>\n",
       "      <td>Thu Mar 11 2020 00:15:02 www1 su: pam_unix(su:...</td>\n",
       "    </tr>\n",
       "    <tr>\n",
       "      <th>4</th>\n",
       "      <td>Thu Mar 11 2020 00:15:02 www1 sshd[2660]: Fail...</td>\n",
       "    </tr>\n",
       "  </tbody>\n",
       "</table>\n",
       "</div>"
      ],
      "text/plain": [
       "                                                 raw\n",
       "0  Thu Mar 11 2020 00:15:02 www1 sshd[4747]: Fail...\n",
       "1  Thu Mar 11 2020 00:15:02 www1 sshd[4111]: Fail...\n",
       "2  Thu Mar 11 2020 00:15:02 www1 sshd[5359]: Fail...\n",
       "3  Thu Mar 11 2020 00:15:02 www1 su: pam_unix(su:...\n",
       "4  Thu Mar 11 2020 00:15:02 www1 sshd[2660]: Fail..."
      ]
     },
     "execution_count": 7,
     "metadata": {},
     "output_type": "execute_result"
    }
   ],
   "source": [
    "secure_df.head()"
   ]
  },
  {
   "cell_type": "markdown",
   "metadata": {},
   "source": [
    "So, obviously not _that_ helpful. But pandas has some handy built-in methods for extracting information from columns. So let's start there. My first target is the IP address. Because they're all the same length and at the start of the string, Python makes that easy enough."
   ]
  },
  {
   "cell_type": "code",
   "execution_count": 8,
   "metadata": {},
   "outputs": [
    {
     "data": {
      "text/plain": [
       "0        209.160.24.63 - - [11/Mar/2020:18:22:16] \"GET ...\n",
       "1        209.160.24.63 - - [11/Mar/2020:18:22:16] \"GET ...\n",
       "2        209.160.24.63 - - [11/Mar/2020:18:22:17] \"GET ...\n",
       "3        209.160.24.63 - - [11/Mar/2020:18:22:19] \"POST...\n",
       "4        209.160.24.63 - - [11/Mar/2020:18:22:20] \"GET ...\n",
       "                               ...                        \n",
       "13623    182.236.164.11 - - [18/Mar/2020:18:20:53] \"GET...\n",
       "13624    182.236.164.11 - - [18/Mar/2020:18:20:53] \"GET...\n",
       "13625    182.236.164.11 - - [18/Mar/2020:18:20:54] \"GET...\n",
       "13626    182.236.164.11 - - [18/Mar/2020:18:20:55] \"POS...\n",
       "13627    182.236.164.11 - - [18/Mar/2020:18:20:56] \"GET...\n",
       "Name: raw, Length: 13628, dtype: object"
      ]
     },
     "execution_count": 8,
     "metadata": {},
     "output_type": "execute_result"
    }
   ],
   "source": [
    "# I can access columns using bracket syntax\n",
    "access_df[\"raw\"]"
   ]
  },
  {
   "cell_type": "code",
   "execution_count": 9,
   "metadata": {},
   "outputs": [
    {
     "data": {
      "text/plain": [
       "0        Thu Mar 11 2020 00:15:02 www1 sshd[4747]: Fail...\n",
       "1        Thu Mar 11 2020 00:15:02 www1 sshd[4111]: Fail...\n",
       "2        Thu Mar 11 2020 00:15:02 www1 sshd[5359]: Fail...\n",
       "3        Thu Mar 11 2020 00:15:02 www1 su: pam_unix(su:...\n",
       "4        Thu Mar 11 2020 00:15:02 www1 sshd[2660]: Fail...\n",
       "                               ...                        \n",
       "10588    Thu Mar 18 2020 00:15:02 www1 sshd[1089]: Fail...\n",
       "10589    Thu Mar 18 2020 00:15:02 www1 su: pam_unix(su:...\n",
       "10590    Thu Mar 18 2020 00:15:02 www1 sshd[4225]: Fail...\n",
       "10591    Thu Mar 18 2020 00:15:02 www1 sshd[5034]: Fail...\n",
       "10592    Thu Mar 18 2020 00:15:02 www1 sshd[1654]: Fail...\n",
       "Name: raw, Length: 10593, dtype: object"
      ]
     },
     "execution_count": 9,
     "metadata": {},
     "output_type": "execute_result"
    }
   ],
   "source": [
    "# I can also use the .loc method\n",
    "secure_df.loc[:,\"raw\"] # The : would be where index references go"
   ]
  },
  {
   "cell_type": "code",
   "execution_count": 10,
   "metadata": {},
   "outputs": [
    {
     "data": {
      "text/plain": [
       "0        209.160.24.63\n",
       "1        209.160.24.63\n",
       "2        209.160.24.63\n",
       "3        209.160.24.63\n",
       "4        209.160.24.63\n",
       "             ...      \n",
       "13623    182.236.164.1\n",
       "13624    182.236.164.1\n",
       "13625    182.236.164.1\n",
       "13626    182.236.164.1\n",
       "13627    182.236.164.1\n",
       "Name: raw, Length: 13628, dtype: object"
      ]
     },
     "execution_count": 10,
     "metadata": {},
     "output_type": "execute_result"
    }
   ],
   "source": [
    "# Now, check out how I can use the .str method on a Series (column) to perform operations across the Series\n",
    "access_df[\"raw\"].str[0:13]"
   ]
  },
  {
   "cell_type": "markdown",
   "metadata": {},
   "source": [
    "That's cool, but unfortunately I have no way of guaranteeing the length of the last octet. Looks like I'm gonna have to use...\n",
    "\n",
    "...\n",
    "\n",
    "**_regular expressions_**"
   ]
  },
  {
   "cell_type": "code",
   "execution_count": 11,
   "metadata": {},
   "outputs": [],
   "source": [
    "access_df[\"ip\"] = access_df[\"raw\"].str.extract(r\"(\\d+\\.\\d+\\.\\d+\\.\\d+)\")"
   ]
  },
  {
   "cell_type": "code",
   "execution_count": 12,
   "metadata": {},
   "outputs": [],
   "source": [
    "secure_df[\"ip\"] = secure_df[\"raw\"].str.extract(r\"(\\d+\\.\\d+\\.\\d+\\.\\d+)\")"
   ]
  },
  {
   "cell_type": "code",
   "execution_count": 13,
   "metadata": {},
   "outputs": [
    {
     "data": {
      "text/html": [
       "<div>\n",
       "<style scoped>\n",
       "    .dataframe tbody tr th:only-of-type {\n",
       "        vertical-align: middle;\n",
       "    }\n",
       "\n",
       "    .dataframe tbody tr th {\n",
       "        vertical-align: top;\n",
       "    }\n",
       "\n",
       "    .dataframe thead th {\n",
       "        text-align: right;\n",
       "    }\n",
       "</style>\n",
       "<table border=\"1\" class=\"dataframe\">\n",
       "  <thead>\n",
       "    <tr style=\"text-align: right;\">\n",
       "      <th></th>\n",
       "      <th>raw</th>\n",
       "      <th>ip</th>\n",
       "    </tr>\n",
       "  </thead>\n",
       "  <tbody>\n",
       "    <tr>\n",
       "      <th>0</th>\n",
       "      <td>209.160.24.63 - - [11/Mar/2020:18:22:16] \"GET ...</td>\n",
       "      <td>209.160.24.63</td>\n",
       "    </tr>\n",
       "    <tr>\n",
       "      <th>1</th>\n",
       "      <td>209.160.24.63 - - [11/Mar/2020:18:22:16] \"GET ...</td>\n",
       "      <td>209.160.24.63</td>\n",
       "    </tr>\n",
       "    <tr>\n",
       "      <th>2</th>\n",
       "      <td>209.160.24.63 - - [11/Mar/2020:18:22:17] \"GET ...</td>\n",
       "      <td>209.160.24.63</td>\n",
       "    </tr>\n",
       "    <tr>\n",
       "      <th>3</th>\n",
       "      <td>209.160.24.63 - - [11/Mar/2020:18:22:19] \"POST...</td>\n",
       "      <td>209.160.24.63</td>\n",
       "    </tr>\n",
       "    <tr>\n",
       "      <th>4</th>\n",
       "      <td>209.160.24.63 - - [11/Mar/2020:18:22:20] \"GET ...</td>\n",
       "      <td>209.160.24.63</td>\n",
       "    </tr>\n",
       "  </tbody>\n",
       "</table>\n",
       "</div>"
      ],
      "text/plain": [
       "                                                 raw             ip\n",
       "0  209.160.24.63 - - [11/Mar/2020:18:22:16] \"GET ...  209.160.24.63\n",
       "1  209.160.24.63 - - [11/Mar/2020:18:22:16] \"GET ...  209.160.24.63\n",
       "2  209.160.24.63 - - [11/Mar/2020:18:22:17] \"GET ...  209.160.24.63\n",
       "3  209.160.24.63 - - [11/Mar/2020:18:22:19] \"POST...  209.160.24.63\n",
       "4  209.160.24.63 - - [11/Mar/2020:18:22:20] \"GET ...  209.160.24.63"
      ]
     },
     "execution_count": 13,
     "metadata": {},
     "output_type": "execute_result"
    }
   ],
   "source": [
    "access_df.head()"
   ]
  },
  {
   "cell_type": "markdown",
   "metadata": {},
   "source": [
    "Nice! We have IPs. What else do I want. What about...timestamps?"
   ]
  },
  {
   "cell_type": "code",
   "execution_count": 14,
   "metadata": {},
   "outputs": [],
   "source": [
    "# Have to use regex for access\n",
    "access_df[\"timestamp\"] = access_df[\"raw\"].str.extract(r\"\\[(.+)\\]\")"
   ]
  },
  {
   "cell_type": "code",
   "execution_count": 15,
   "metadata": {},
   "outputs": [],
   "source": [
    "# But secure has a consistent-length string right up front\n",
    "secure_df[\"timestamp\"] = secure_df[\"raw\"].str[0:24]"
   ]
  },
  {
   "cell_type": "markdown",
   "metadata": {},
   "source": [
    "Timestamps acquired! We still have some work to do before we convert them properly to datetimes, but for now, let's go after some other low-hanging fruit."
   ]
  },
  {
   "cell_type": "code",
   "execution_count": 16,
   "metadata": {},
   "outputs": [],
   "source": [
    "access_df[\"request\"] = access_df[\"raw\"].str.extract(r\"\\\"(\\w+) \\/\")\n",
    "access_df[\"response\"] = access_df[\"raw\"].str.extract(r\"\\\" (\\d+) \")\n",
    "access_df[\"path\"] = access_df[\"raw\"].str.extract(r\"\\\"\\w+(\\/.+) HTTP\")\n",
    "access_df[\"url\"] = access_df[\"raw\"].str.extract(r\"\\d+ \\\"(https?:\\/\\/\\w*\\.?\\w+\\.\\w+)\")"
   ]
  },
  {
   "cell_type": "code",
   "execution_count": 17,
   "metadata": {},
   "outputs": [],
   "source": [
    "secure_df[\"user\"] = secure_df[\"raw\"].str.extract(r\"user (\\w+)\")\n",
    "secure_df[\"port\"] = secure_df[\"raw\"].str.extract(r\"port (\\d+)\")\n",
    "secure_df[\"failure\"] = secure_df[\"raw\"].str.contains(\"Failed\")"
   ]
  },
  {
   "cell_type": "code",
   "execution_count": 18,
   "metadata": {},
   "outputs": [],
   "source": [
    "pd.set_option(\"display.max_colwidth\", None) # Make stuff easier to view"
   ]
  },
  {
   "cell_type": "markdown",
   "metadata": {},
   "source": [
    "## Timestamps and Pandas Indices\n",
    "\n",
    "In Pandas, an Index is a way of referencing and sorting rows of tabular data. Unlike regular row numbers, indices can have special data types, along with associated methods. Indices can also be multi-level, as when we group by, say, date _and_ user. DataFrames kick off with a simple Integer Index, but we can turn our `timestamp` column into a `DateTimeIndex`, which will allow us to sort our data chronologically."
   ]
  },
  {
   "cell_type": "code",
   "execution_count": 19,
   "metadata": {},
   "outputs": [],
   "source": [
    "# Use pd.to_datetime to turn our timestamp into a real datetimeobject\n",
    "# 11 Mar 2020:18:22:16\n",
    "access_datetimes = pd.to_datetime(access_df[\"timestamp\"].infer_objects(), format=\"%d/%b/%Y:%H:%M:%S\")"
   ]
  },
  {
   "cell_type": "code",
   "execution_count": 20,
   "metadata": {},
   "outputs": [],
   "source": [
    "# The secure log datetimes are sane enough we don't have to provide a format\n",
    "secure_datetimes = pd.to_datetime(secure_df[\"timestamp\"].infer_objects())"
   ]
  },
  {
   "cell_type": "code",
   "execution_count": 21,
   "metadata": {},
   "outputs": [],
   "source": [
    "# Now, we set the dataframes index\n",
    "access_df.set_index(access_datetimes, inplace=True)\n",
    "secure_df.set_index(secure_datetimes, inplace=True)"
   ]
  },
  {
   "cell_type": "code",
   "execution_count": 22,
   "metadata": {},
   "outputs": [
    {
     "data": {
      "text/html": [
       "<div>\n",
       "<style scoped>\n",
       "    .dataframe tbody tr th:only-of-type {\n",
       "        vertical-align: middle;\n",
       "    }\n",
       "\n",
       "    .dataframe tbody tr th {\n",
       "        vertical-align: top;\n",
       "    }\n",
       "\n",
       "    .dataframe thead th {\n",
       "        text-align: right;\n",
       "    }\n",
       "</style>\n",
       "<table border=\"1\" class=\"dataframe\">\n",
       "  <thead>\n",
       "    <tr style=\"text-align: right;\">\n",
       "      <th></th>\n",
       "      <th>raw</th>\n",
       "      <th>ip</th>\n",
       "      <th>timestamp</th>\n",
       "      <th>request</th>\n",
       "      <th>response</th>\n",
       "      <th>path</th>\n",
       "      <th>url</th>\n",
       "    </tr>\n",
       "    <tr>\n",
       "      <th>timestamp</th>\n",
       "      <th></th>\n",
       "      <th></th>\n",
       "      <th></th>\n",
       "      <th></th>\n",
       "      <th></th>\n",
       "      <th></th>\n",
       "      <th></th>\n",
       "    </tr>\n",
       "  </thead>\n",
       "  <tbody>\n",
       "    <tr>\n",
       "      <th>2020-03-11 18:22:16</th>\n",
       "      <td>209.160.24.63 - - [11/Mar/2020:18:22:16] \"GET /product.screen?productId=WC-SH-A02&amp;JSESSIONID=SD0SL6FF7ADFF4953 HTTP 1.1\" 200 3878 \"http://www.google.com\" \"Mozilla/5.0 (Windows NT 6.1; WOW64) AppleWebKit/536.5 (KHTML, like Gecko) Chrome/19.0.1084.46 Safari/536.5\" 349\\n</td>\n",
       "      <td>209.160.24.63</td>\n",
       "      <td>11/Mar/2020:18:22:16</td>\n",
       "      <td>GET</td>\n",
       "      <td>200</td>\n",
       "      <td>NaN</td>\n",
       "      <td>http://www.google.com</td>\n",
       "    </tr>\n",
       "    <tr>\n",
       "      <th>2020-03-11 18:22:16</th>\n",
       "      <td>209.160.24.63 - - [11/Mar/2020:18:22:16] \"GET /oldlink?itemId=EST-6&amp;JSESSIONID=SD0SL6FF7ADFF4953 HTTP 1.1\" 200 1748 \"http://www.buttercupgames.com/oldlink?itemId=EST-6\" \"Mozilla/5.0 (Windows NT 6.1; WOW64) AppleWebKit/536.5 (KHTML, like Gecko) Chrome/19.0.1084.46 Safari/536.5\" 731\\n</td>\n",
       "      <td>209.160.24.63</td>\n",
       "      <td>11/Mar/2020:18:22:16</td>\n",
       "      <td>GET</td>\n",
       "      <td>200</td>\n",
       "      <td>NaN</td>\n",
       "      <td>http://www.buttercupgames.com</td>\n",
       "    </tr>\n",
       "    <tr>\n",
       "      <th>2020-03-11 18:22:17</th>\n",
       "      <td>209.160.24.63 - - [11/Mar/2020:18:22:17] \"GET /product.screen?productId=BS-AG-G09&amp;JSESSIONID=SD0SL6FF7ADFF4953 HTTP 1.1\" 200 2550 \"http://www.buttercupgames.com/product.screen?productId=BS-AG-G09\" \"Mozilla/5.0 (Windows NT 6.1; WOW64) AppleWebKit/536.5 (KHTML, like Gecko) Chrome/19.0.1084.46 Safari/536.5\" 422\\n</td>\n",
       "      <td>209.160.24.63</td>\n",
       "      <td>11/Mar/2020:18:22:17</td>\n",
       "      <td>GET</td>\n",
       "      <td>200</td>\n",
       "      <td>NaN</td>\n",
       "      <td>http://www.buttercupgames.com</td>\n",
       "    </tr>\n",
       "    <tr>\n",
       "      <th>2020-03-11 18:22:19</th>\n",
       "      <td>209.160.24.63 - - [11/Mar/2020:18:22:19] \"POST /category.screen?categoryId=STRATEGY&amp;JSESSIONID=SD0SL6FF7ADFF4953 HTTP 1.1\" 200 407 \"http://www.buttercupgames.com/cart.do?action=remove&amp;itemId=EST-7&amp;productId=PZ-SG-G05\" \"Mozilla/5.0 (Windows NT 6.1; WOW64) AppleWebKit/536.5 (KHTML, like Gecko) Chrome/19.0.1084.46 Safari/536.5\" 211\\n</td>\n",
       "      <td>209.160.24.63</td>\n",
       "      <td>11/Mar/2020:18:22:19</td>\n",
       "      <td>POST</td>\n",
       "      <td>200</td>\n",
       "      <td>NaN</td>\n",
       "      <td>http://www.buttercupgames.com</td>\n",
       "    </tr>\n",
       "    <tr>\n",
       "      <th>2020-03-11 18:22:20</th>\n",
       "      <td>209.160.24.63 - - [11/Mar/2020:18:22:20] \"GET /product.screen?productId=FS-SG-G03&amp;JSESSIONID=SD0SL6FF7ADFF4953 HTTP 1.1\" 200 2047 \"http://www.buttercupgames.com/category.screen?categoryId=STRATEGY\" \"Mozilla/5.0 (Windows NT 6.1; WOW64) AppleWebKit/536.5 (KHTML, like Gecko) Chrome/19.0.1084.46 Safari/536.5\" 487\\n</td>\n",
       "      <td>209.160.24.63</td>\n",
       "      <td>11/Mar/2020:18:22:20</td>\n",
       "      <td>GET</td>\n",
       "      <td>200</td>\n",
       "      <td>NaN</td>\n",
       "      <td>http://www.buttercupgames.com</td>\n",
       "    </tr>\n",
       "  </tbody>\n",
       "</table>\n",
       "</div>"
      ],
      "text/plain": [
       "                                                                                                                                                                                                                                                                                                                                                              raw  \\\n",
       "timestamp                                                                                                                                                                                                                                                                                                                                                           \n",
       "2020-03-11 18:22:16                                                                  209.160.24.63 - - [11/Mar/2020:18:22:16] \"GET /product.screen?productId=WC-SH-A02&JSESSIONID=SD0SL6FF7ADFF4953 HTTP 1.1\" 200 3878 \"http://www.google.com\" \"Mozilla/5.0 (Windows NT 6.1; WOW64) AppleWebKit/536.5 (KHTML, like Gecko) Chrome/19.0.1084.46 Safari/536.5\" 349\\n   \n",
       "2020-03-11 18:22:16                                                   209.160.24.63 - - [11/Mar/2020:18:22:16] \"GET /oldlink?itemId=EST-6&JSESSIONID=SD0SL6FF7ADFF4953 HTTP 1.1\" 200 1748 \"http://www.buttercupgames.com/oldlink?itemId=EST-6\" \"Mozilla/5.0 (Windows NT 6.1; WOW64) AppleWebKit/536.5 (KHTML, like Gecko) Chrome/19.0.1084.46 Safari/536.5\" 731\\n   \n",
       "2020-03-11 18:22:17                       209.160.24.63 - - [11/Mar/2020:18:22:17] \"GET /product.screen?productId=BS-AG-G09&JSESSIONID=SD0SL6FF7ADFF4953 HTTP 1.1\" 200 2550 \"http://www.buttercupgames.com/product.screen?productId=BS-AG-G09\" \"Mozilla/5.0 (Windows NT 6.1; WOW64) AppleWebKit/536.5 (KHTML, like Gecko) Chrome/19.0.1084.46 Safari/536.5\" 422\\n   \n",
       "2020-03-11 18:22:19  209.160.24.63 - - [11/Mar/2020:18:22:19] \"POST /category.screen?categoryId=STRATEGY&JSESSIONID=SD0SL6FF7ADFF4953 HTTP 1.1\" 200 407 \"http://www.buttercupgames.com/cart.do?action=remove&itemId=EST-7&productId=PZ-SG-G05\" \"Mozilla/5.0 (Windows NT 6.1; WOW64) AppleWebKit/536.5 (KHTML, like Gecko) Chrome/19.0.1084.46 Safari/536.5\" 211\\n   \n",
       "2020-03-11 18:22:20                      209.160.24.63 - - [11/Mar/2020:18:22:20] \"GET /product.screen?productId=FS-SG-G03&JSESSIONID=SD0SL6FF7ADFF4953 HTTP 1.1\" 200 2047 \"http://www.buttercupgames.com/category.screen?categoryId=STRATEGY\" \"Mozilla/5.0 (Windows NT 6.1; WOW64) AppleWebKit/536.5 (KHTML, like Gecko) Chrome/19.0.1084.46 Safari/536.5\" 487\\n   \n",
       "\n",
       "                                ip             timestamp request response  \\\n",
       "timestamp                                                                   \n",
       "2020-03-11 18:22:16  209.160.24.63  11/Mar/2020:18:22:16     GET      200   \n",
       "2020-03-11 18:22:16  209.160.24.63  11/Mar/2020:18:22:16     GET      200   \n",
       "2020-03-11 18:22:17  209.160.24.63  11/Mar/2020:18:22:17     GET      200   \n",
       "2020-03-11 18:22:19  209.160.24.63  11/Mar/2020:18:22:19    POST      200   \n",
       "2020-03-11 18:22:20  209.160.24.63  11/Mar/2020:18:22:20     GET      200   \n",
       "\n",
       "                    path                            url  \n",
       "timestamp                                                \n",
       "2020-03-11 18:22:16  NaN          http://www.google.com  \n",
       "2020-03-11 18:22:16  NaN  http://www.buttercupgames.com  \n",
       "2020-03-11 18:22:17  NaN  http://www.buttercupgames.com  \n",
       "2020-03-11 18:22:19  NaN  http://www.buttercupgames.com  \n",
       "2020-03-11 18:22:20  NaN  http://www.buttercupgames.com  "
      ]
     },
     "execution_count": 22,
     "metadata": {},
     "output_type": "execute_result"
    }
   ],
   "source": [
    "# Look at the difference!\n",
    "access_df.head()"
   ]
  },
  {
   "cell_type": "markdown",
   "metadata": {},
   "source": [
    "## Data Analysis\n",
    "\n",
    "_Now_ we can have some fun. When reviewing logs, the first question might be event rate. A rate requires a count per...something. Let's do per minute just to get started."
   ]
  },
  {
   "cell_type": "code",
   "execution_count": 23,
   "metadata": {},
   "outputs": [
    {
     "data": {
      "text/html": [
       "<div>\n",
       "<style scoped>\n",
       "    .dataframe tbody tr th:only-of-type {\n",
       "        vertical-align: middle;\n",
       "    }\n",
       "\n",
       "    .dataframe tbody tr th {\n",
       "        vertical-align: top;\n",
       "    }\n",
       "\n",
       "    .dataframe thead th {\n",
       "        text-align: right;\n",
       "    }\n",
       "</style>\n",
       "<table border=\"1\" class=\"dataframe\">\n",
       "  <thead>\n",
       "    <tr style=\"text-align: right;\">\n",
       "      <th></th>\n",
       "      <th>raw</th>\n",
       "      <th>ip</th>\n",
       "      <th>timestamp</th>\n",
       "      <th>user</th>\n",
       "      <th>port</th>\n",
       "      <th>failure</th>\n",
       "    </tr>\n",
       "    <tr>\n",
       "      <th>timestamp</th>\n",
       "      <th></th>\n",
       "      <th></th>\n",
       "      <th></th>\n",
       "      <th></th>\n",
       "      <th></th>\n",
       "      <th></th>\n",
       "    </tr>\n",
       "  </thead>\n",
       "  <tbody>\n",
       "    <tr>\n",
       "      <th>15</th>\n",
       "      <td>10593</td>\n",
       "      <td>9402</td>\n",
       "      <td>10593</td>\n",
       "      <td>7296</td>\n",
       "      <td>9420</td>\n",
       "      <td>10593</td>\n",
       "    </tr>\n",
       "  </tbody>\n",
       "</table>\n",
       "</div>"
      ],
      "text/plain": [
       "             raw    ip  timestamp  user  port  failure\n",
       "timestamp                                             \n",
       "15         10593  9402      10593  7296  9420    10593"
      ]
     },
     "execution_count": 23,
     "metadata": {},
     "output_type": "execute_result"
    }
   ],
   "source": [
    "secure_df.groupby(secure_df.index.minute).count()"
   ]
  },
  {
   "cell_type": "code",
   "execution_count": 24,
   "metadata": {},
   "outputs": [
    {
     "data": {
      "text/html": [
       "<div>\n",
       "<style scoped>\n",
       "    .dataframe tbody tr th:only-of-type {\n",
       "        vertical-align: middle;\n",
       "    }\n",
       "\n",
       "    .dataframe tbody tr th {\n",
       "        vertical-align: top;\n",
       "    }\n",
       "\n",
       "    .dataframe thead th {\n",
       "        text-align: right;\n",
       "    }\n",
       "</style>\n",
       "<table border=\"1\" class=\"dataframe\">\n",
       "  <thead>\n",
       "    <tr style=\"text-align: right;\">\n",
       "      <th></th>\n",
       "      <th>raw</th>\n",
       "      <th>ip</th>\n",
       "      <th>timestamp</th>\n",
       "      <th>request</th>\n",
       "      <th>response</th>\n",
       "      <th>path</th>\n",
       "      <th>url</th>\n",
       "    </tr>\n",
       "    <tr>\n",
       "      <th>timestamp</th>\n",
       "      <th></th>\n",
       "      <th></th>\n",
       "      <th></th>\n",
       "      <th></th>\n",
       "      <th></th>\n",
       "      <th></th>\n",
       "      <th></th>\n",
       "    </tr>\n",
       "  </thead>\n",
       "  <tbody>\n",
       "    <tr>\n",
       "      <th>0</th>\n",
       "      <td>259</td>\n",
       "      <td>259</td>\n",
       "      <td>259</td>\n",
       "      <td>259</td>\n",
       "      <td>259</td>\n",
       "      <td>0</td>\n",
       "      <td>259</td>\n",
       "    </tr>\n",
       "    <tr>\n",
       "      <th>1</th>\n",
       "      <td>167</td>\n",
       "      <td>167</td>\n",
       "      <td>167</td>\n",
       "      <td>167</td>\n",
       "      <td>167</td>\n",
       "      <td>0</td>\n",
       "      <td>167</td>\n",
       "    </tr>\n",
       "    <tr>\n",
       "      <th>2</th>\n",
       "      <td>269</td>\n",
       "      <td>269</td>\n",
       "      <td>269</td>\n",
       "      <td>268</td>\n",
       "      <td>269</td>\n",
       "      <td>0</td>\n",
       "      <td>269</td>\n",
       "    </tr>\n",
       "    <tr>\n",
       "      <th>3</th>\n",
       "      <td>128</td>\n",
       "      <td>128</td>\n",
       "      <td>128</td>\n",
       "      <td>128</td>\n",
       "      <td>128</td>\n",
       "      <td>0</td>\n",
       "      <td>128</td>\n",
       "    </tr>\n",
       "    <tr>\n",
       "      <th>4</th>\n",
       "      <td>224</td>\n",
       "      <td>224</td>\n",
       "      <td>224</td>\n",
       "      <td>223</td>\n",
       "      <td>224</td>\n",
       "      <td>0</td>\n",
       "      <td>224</td>\n",
       "    </tr>\n",
       "  </tbody>\n",
       "</table>\n",
       "</div>"
      ],
      "text/plain": [
       "           raw   ip  timestamp  request  response  path  url\n",
       "timestamp                                                   \n",
       "0          259  259        259      259       259     0  259\n",
       "1          167  167        167      167       167     0  167\n",
       "2          269  269        269      268       269     0  269\n",
       "3          128  128        128      128       128     0  128\n",
       "4          224  224        224      223       224     0  224"
      ]
     },
     "execution_count": 24,
     "metadata": {},
     "output_type": "execute_result"
    }
   ],
   "source": [
    "access_df.groupby(access_df.index.minute).count().head()"
   ]
  },
  {
   "cell_type": "markdown",
   "metadata": {},
   "source": [
    "Uh, okay, that was less than helpful. What about grouping by hour, minute, _and_ minute?"
   ]
  },
  {
   "cell_type": "code",
   "execution_count": 25,
   "metadata": {},
   "outputs": [
    {
     "data": {
      "text/html": [
       "<div>\n",
       "<style scoped>\n",
       "    .dataframe tbody tr th:only-of-type {\n",
       "        vertical-align: middle;\n",
       "    }\n",
       "\n",
       "    .dataframe tbody tr th {\n",
       "        vertical-align: top;\n",
       "    }\n",
       "\n",
       "    .dataframe thead th {\n",
       "        text-align: right;\n",
       "    }\n",
       "</style>\n",
       "<table border=\"1\" class=\"dataframe\">\n",
       "  <thead>\n",
       "    <tr style=\"text-align: right;\">\n",
       "      <th></th>\n",
       "      <th></th>\n",
       "      <th></th>\n",
       "      <th>raw</th>\n",
       "      <th>ip</th>\n",
       "      <th>timestamp</th>\n",
       "      <th>user</th>\n",
       "      <th>port</th>\n",
       "      <th>failure</th>\n",
       "    </tr>\n",
       "    <tr>\n",
       "      <th>timestamp</th>\n",
       "      <th>timestamp</th>\n",
       "      <th>timestamp</th>\n",
       "      <th></th>\n",
       "      <th></th>\n",
       "      <th></th>\n",
       "      <th></th>\n",
       "      <th></th>\n",
       "      <th></th>\n",
       "    </tr>\n",
       "  </thead>\n",
       "  <tbody>\n",
       "    <tr>\n",
       "      <th>0</th>\n",
       "      <th>15</th>\n",
       "      <th>2</th>\n",
       "      <td>10593</td>\n",
       "      <td>9402</td>\n",
       "      <td>10593</td>\n",
       "      <td>7296</td>\n",
       "      <td>9420</td>\n",
       "      <td>10593</td>\n",
       "    </tr>\n",
       "  </tbody>\n",
       "</table>\n",
       "</div>"
      ],
      "text/plain": [
       "                                 raw    ip  timestamp  user  port  failure\n",
       "timestamp timestamp timestamp                                             \n",
       "0         15        2          10593  9402      10593  7296  9420    10593"
      ]
     },
     "execution_count": 25,
     "metadata": {},
     "output_type": "execute_result"
    }
   ],
   "source": [
    "secure_df.groupby([secure_df.index.hour, secure_df.index.minute, secure_df.index.second]).count()"
   ]
  },
  {
   "cell_type": "code",
   "execution_count": 26,
   "metadata": {},
   "outputs": [
    {
     "data": {
      "text/html": [
       "<div>\n",
       "<style scoped>\n",
       "    .dataframe tbody tr th:only-of-type {\n",
       "        vertical-align: middle;\n",
       "    }\n",
       "\n",
       "    .dataframe tbody tr th {\n",
       "        vertical-align: top;\n",
       "    }\n",
       "\n",
       "    .dataframe thead th {\n",
       "        text-align: right;\n",
       "    }\n",
       "</style>\n",
       "<table border=\"1\" class=\"dataframe\">\n",
       "  <thead>\n",
       "    <tr style=\"text-align: right;\">\n",
       "      <th></th>\n",
       "      <th></th>\n",
       "      <th></th>\n",
       "      <th>raw</th>\n",
       "      <th>ip</th>\n",
       "      <th>timestamp</th>\n",
       "      <th>request</th>\n",
       "      <th>response</th>\n",
       "      <th>path</th>\n",
       "      <th>url</th>\n",
       "    </tr>\n",
       "    <tr>\n",
       "      <th>timestamp</th>\n",
       "      <th>timestamp</th>\n",
       "      <th>timestamp</th>\n",
       "      <th></th>\n",
       "      <th></th>\n",
       "      <th></th>\n",
       "      <th></th>\n",
       "      <th></th>\n",
       "      <th></th>\n",
       "      <th></th>\n",
       "    </tr>\n",
       "  </thead>\n",
       "  <tbody>\n",
       "    <tr>\n",
       "      <th rowspan=\"5\" valign=\"top\">0</th>\n",
       "      <th rowspan=\"2\" valign=\"top\">0</th>\n",
       "      <th>37</th>\n",
       "      <td>2</td>\n",
       "      <td>2</td>\n",
       "      <td>2</td>\n",
       "      <td>2</td>\n",
       "      <td>2</td>\n",
       "      <td>0</td>\n",
       "      <td>2</td>\n",
       "    </tr>\n",
       "    <tr>\n",
       "      <th>38</th>\n",
       "      <td>1</td>\n",
       "      <td>1</td>\n",
       "      <td>1</td>\n",
       "      <td>1</td>\n",
       "      <td>1</td>\n",
       "      <td>0</td>\n",
       "      <td>1</td>\n",
       "    </tr>\n",
       "    <tr>\n",
       "      <th rowspan=\"3\" valign=\"top\">1</th>\n",
       "      <th>16</th>\n",
       "      <td>1</td>\n",
       "      <td>1</td>\n",
       "      <td>1</td>\n",
       "      <td>1</td>\n",
       "      <td>1</td>\n",
       "      <td>0</td>\n",
       "      <td>1</td>\n",
       "    </tr>\n",
       "    <tr>\n",
       "      <th>17</th>\n",
       "      <td>2</td>\n",
       "      <td>2</td>\n",
       "      <td>2</td>\n",
       "      <td>2</td>\n",
       "      <td>2</td>\n",
       "      <td>0</td>\n",
       "      <td>2</td>\n",
       "    </tr>\n",
       "    <tr>\n",
       "      <th>18</th>\n",
       "      <td>1</td>\n",
       "      <td>1</td>\n",
       "      <td>1</td>\n",
       "      <td>1</td>\n",
       "      <td>1</td>\n",
       "      <td>0</td>\n",
       "      <td>1</td>\n",
       "    </tr>\n",
       "    <tr>\n",
       "      <th>...</th>\n",
       "      <th>...</th>\n",
       "      <th>...</th>\n",
       "      <td>...</td>\n",
       "      <td>...</td>\n",
       "      <td>...</td>\n",
       "      <td>...</td>\n",
       "      <td>...</td>\n",
       "      <td>...</td>\n",
       "      <td>...</td>\n",
       "    </tr>\n",
       "    <tr>\n",
       "      <th rowspan=\"5\" valign=\"top\">23</th>\n",
       "      <th rowspan=\"2\" valign=\"top\">58</th>\n",
       "      <th>58</th>\n",
       "      <td>1</td>\n",
       "      <td>1</td>\n",
       "      <td>1</td>\n",
       "      <td>1</td>\n",
       "      <td>1</td>\n",
       "      <td>0</td>\n",
       "      <td>1</td>\n",
       "    </tr>\n",
       "    <tr>\n",
       "      <th>59</th>\n",
       "      <td>1</td>\n",
       "      <td>1</td>\n",
       "      <td>1</td>\n",
       "      <td>1</td>\n",
       "      <td>1</td>\n",
       "      <td>0</td>\n",
       "      <td>1</td>\n",
       "    </tr>\n",
       "    <tr>\n",
       "      <th rowspan=\"3\" valign=\"top\">59</th>\n",
       "      <th>0</th>\n",
       "      <td>2</td>\n",
       "      <td>2</td>\n",
       "      <td>2</td>\n",
       "      <td>2</td>\n",
       "      <td>2</td>\n",
       "      <td>0</td>\n",
       "      <td>2</td>\n",
       "    </tr>\n",
       "    <tr>\n",
       "      <th>1</th>\n",
       "      <td>1</td>\n",
       "      <td>1</td>\n",
       "      <td>1</td>\n",
       "      <td>1</td>\n",
       "      <td>1</td>\n",
       "      <td>0</td>\n",
       "      <td>1</td>\n",
       "    </tr>\n",
       "    <tr>\n",
       "      <th>56</th>\n",
       "      <td>1</td>\n",
       "      <td>1</td>\n",
       "      <td>1</td>\n",
       "      <td>1</td>\n",
       "      <td>1</td>\n",
       "      <td>0</td>\n",
       "      <td>1</td>\n",
       "    </tr>\n",
       "  </tbody>\n",
       "</table>\n",
       "<p>8441 rows × 7 columns</p>\n",
       "</div>"
      ],
      "text/plain": [
       "                               raw  ip  timestamp  request  response  path  \\\n",
       "timestamp timestamp timestamp                                                \n",
       "0         0         37           2   2          2        2         2     0   \n",
       "                    38           1   1          1        1         1     0   \n",
       "          1         16           1   1          1        1         1     0   \n",
       "                    17           2   2          2        2         2     0   \n",
       "                    18           1   1          1        1         1     0   \n",
       "...                            ...  ..        ...      ...       ...   ...   \n",
       "23        58        58           1   1          1        1         1     0   \n",
       "                    59           1   1          1        1         1     0   \n",
       "          59        0            2   2          2        2         2     0   \n",
       "                    1            1   1          1        1         1     0   \n",
       "                    56           1   1          1        1         1     0   \n",
       "\n",
       "                               url  \n",
       "timestamp timestamp timestamp       \n",
       "0         0         37           2  \n",
       "                    38           1  \n",
       "          1         16           1  \n",
       "                    17           2  \n",
       "                    18           1  \n",
       "...                            ...  \n",
       "23        58        58           1  \n",
       "                    59           1  \n",
       "          59        0            2  \n",
       "                    1            1  \n",
       "                    56           1  \n",
       "\n",
       "[8441 rows x 7 columns]"
      ]
     },
     "execution_count": 26,
     "metadata": {},
     "output_type": "execute_result"
    }
   ],
   "source": [
    "access_df.groupby([access_df.index.hour, access_df.index.minute, access_df.index.second]).count()"
   ]
  },
  {
   "cell_type": "markdown",
   "metadata": {},
   "source": [
    "#### Tabular vs. Visual Analysis\n",
    "\n",
    "Sometimes tabular data is revealing...sometimes not. Often for rates, we need a real visualization. We have several options for creating plots in Jupyter, although I primarily use the venerable Pyplot library, since it's built in to Pandas."
   ]
  },
  {
   "cell_type": "code",
   "execution_count": 27,
   "metadata": {},
   "outputs": [
    {
     "data": {
      "text/plain": [
       "<matplotlib.axes._subplots.AxesSubplot at 0x7fcf82b9d5c0>"
      ]
     },
     "execution_count": 27,
     "metadata": {},
     "output_type": "execute_result"
    },
    {
     "data": {
      "image/png": "[encoded data removed]",
      "text/plain": [
       "<Figure size 432x288 with 1 Axes>"
      ]
     },
     "metadata": {
      "needs_background": "light"
     },
     "output_type": "display_data"
    }
   ],
   "source": [
    "access_df.groupby(access_df.index.hour).count()[\"raw\"].plot.line(title=\"Access events per hour\")"
   ]
  },
  {
   "cell_type": "code",
   "execution_count": 28,
   "metadata": {},
   "outputs": [
    {
     "data": {
      "text/plain": [
       "<matplotlib.axes._subplots.AxesSubplot at 0x7fcf806952e8>"
      ]
     },
     "execution_count": 28,
     "metadata": {},
     "output_type": "execute_result"
    },
    {
     "data": {
      "image/png": "[encoded data removed]",
      "text/plain": [
       "<Figure size 432x288 with 1 Axes>"
      ]
     },
     "metadata": {
      "needs_background": "light"
     },
     "output_type": "display_data"
    }
   ],
   "source": [
    "secure_df.groupby(secure_df.index.second).count()[\"raw\"].plot.line(title=\"Secure events per second\", style=\"ro\")"
   ]
  },
  {
   "cell_type": "markdown",
   "metadata": {},
   "source": [
    "### Categorical data\n",
    "\n",
    "Sometimes we want to review categorical data. Let's look at events by IP. I'll show you the built-in pie chart, as well as the handy Seaborn `barplot()`."
   ]
  },
  {
   "cell_type": "code",
   "execution_count": 29,
   "metadata": {},
   "outputs": [],
   "source": [
    "# First let's make sure we have a shape that makes sense.\n",
    "top_access_ips = access_df.groupby(\"ip\").count().sort_values(by=\"raw\", ascending=False)"
   ]
  },
  {
   "cell_type": "code",
   "execution_count": 30,
   "metadata": {},
   "outputs": [
    {
     "data": {
      "text/plain": [
       "<matplotlib.axes._subplots.AxesSubplot at 0x7fcf80684668>"
      ]
     },
     "execution_count": 30,
     "metadata": {},
     "output_type": "execute_result"
    },
    {
     "data": {
      "image/png": "[encoded data removed]",
      "text/plain": [
       "<Figure size 432x288 with 1 Axes>"
      ]
     },
     "metadata": {},
     "output_type": "display_data"
    }
   ],
   "source": [
    "# Get the top 5 IPs for our Pie chart\n",
    "top_access_ips.head().plot.pie(y=\"raw\", title=\"Top access IPs\")"
   ]
  },
  {
   "cell_type": "markdown",
   "metadata": {},
   "source": [
    "Let's see what's up with logon failures. First we'll examine how many users we're talking about."
   ]
  },
  {
   "cell_type": "code",
   "execution_count": 31,
   "metadata": {},
   "outputs": [],
   "source": [
    "failed_users = secure_df[secure_df[\"failure\"] == True].groupby(\"user\")"
   ]
  },
  {
   "cell_type": "code",
   "execution_count": 32,
   "metadata": {},
   "outputs": [
    {
     "data": {
      "text/html": [
       "<div>\n",
       "<style scoped>\n",
       "    .dataframe tbody tr th:only-of-type {\n",
       "        vertical-align: middle;\n",
       "    }\n",
       "\n",
       "    .dataframe tbody tr th {\n",
       "        vertical-align: top;\n",
       "    }\n",
       "\n",
       "    .dataframe thead th {\n",
       "        text-align: right;\n",
       "    }\n",
       "</style>\n",
       "<table border=\"1\" class=\"dataframe\">\n",
       "  <thead>\n",
       "    <tr style=\"text-align: right;\">\n",
       "      <th></th>\n",
       "      <th>raw</th>\n",
       "      <th>ip</th>\n",
       "      <th>timestamp</th>\n",
       "      <th>port</th>\n",
       "      <th>failure</th>\n",
       "    </tr>\n",
       "    <tr>\n",
       "      <th>user</th>\n",
       "      <th></th>\n",
       "      <th></th>\n",
       "      <th></th>\n",
       "      <th></th>\n",
       "      <th></th>\n",
       "    </tr>\n",
       "  </thead>\n",
       "  <tbody>\n",
       "    <tr>\n",
       "      <th>abc</th>\n",
       "      <td>23</td>\n",
       "      <td>23</td>\n",
       "      <td>23</td>\n",
       "      <td>23</td>\n",
       "      <td>23</td>\n",
       "    </tr>\n",
       "    <tr>\n",
       "      <th>adm</th>\n",
       "      <td>23</td>\n",
       "      <td>23</td>\n",
       "      <td>23</td>\n",
       "      <td>23</td>\n",
       "      <td>23</td>\n",
       "    </tr>\n",
       "    <tr>\n",
       "      <th>admin</th>\n",
       "      <td>257</td>\n",
       "      <td>257</td>\n",
       "      <td>257</td>\n",
       "      <td>257</td>\n",
       "      <td>257</td>\n",
       "    </tr>\n",
       "    <tr>\n",
       "      <th>administrator</th>\n",
       "      <td>254</td>\n",
       "      <td>254</td>\n",
       "      <td>254</td>\n",
       "      <td>254</td>\n",
       "      <td>254</td>\n",
       "    </tr>\n",
       "    <tr>\n",
       "      <th>agushto</th>\n",
       "      <td>19</td>\n",
       "      <td>19</td>\n",
       "      <td>19</td>\n",
       "      <td>19</td>\n",
       "      <td>19</td>\n",
       "    </tr>\n",
       "    <tr>\n",
       "      <th>...</th>\n",
       "      <td>...</td>\n",
       "      <td>...</td>\n",
       "      <td>...</td>\n",
       "      <td>...</td>\n",
       "      <td>...</td>\n",
       "    </tr>\n",
       "    <tr>\n",
       "      <th>web002</th>\n",
       "      <td>18</td>\n",
       "      <td>18</td>\n",
       "      <td>18</td>\n",
       "      <td>18</td>\n",
       "      <td>18</td>\n",
       "    </tr>\n",
       "    <tr>\n",
       "      <th>whois</th>\n",
       "      <td>95</td>\n",
       "      <td>95</td>\n",
       "      <td>95</td>\n",
       "      <td>95</td>\n",
       "      <td>95</td>\n",
       "    </tr>\n",
       "    <tr>\n",
       "      <th>workshop</th>\n",
       "      <td>66</td>\n",
       "      <td>66</td>\n",
       "      <td>66</td>\n",
       "      <td>66</td>\n",
       "      <td>66</td>\n",
       "    </tr>\n",
       "    <tr>\n",
       "      <th>yp</th>\n",
       "      <td>98</td>\n",
       "      <td>98</td>\n",
       "      <td>98</td>\n",
       "      <td>98</td>\n",
       "      <td>98</td>\n",
       "    </tr>\n",
       "    <tr>\n",
       "      <th>zabbix</th>\n",
       "      <td>33</td>\n",
       "      <td>33</td>\n",
       "      <td>33</td>\n",
       "      <td>33</td>\n",
       "      <td>33</td>\n",
       "    </tr>\n",
       "  </tbody>\n",
       "</table>\n",
       "<p>115 rows × 5 columns</p>\n",
       "</div>"
      ],
      "text/plain": [
       "               raw   ip  timestamp  port  failure\n",
       "user                                             \n",
       "abc             23   23         23    23       23\n",
       "adm             23   23         23    23       23\n",
       "admin          257  257        257   257      257\n",
       "administrator  254  254        254   254      254\n",
       "agushto         19   19         19    19       19\n",
       "...            ...  ...        ...   ...      ...\n",
       "web002          18   18         18    18       18\n",
       "whois           95   95         95    95       95\n",
       "workshop        66   66         66    66       66\n",
       "yp              98   98         98    98       98\n",
       "zabbix          33   33         33    33       33\n",
       "\n",
       "[115 rows x 5 columns]"
      ]
     },
     "execution_count": 32,
     "metadata": {},
     "output_type": "execute_result"
    }
   ],
   "source": [
    "failed_users.count()"
   ]
  },
  {
   "cell_type": "markdown",
   "metadata": {},
   "source": [
    "115 rows?! Too many for a chart. Let's get the top 10."
   ]
  },
  {
   "cell_type": "code",
   "execution_count": 33,
   "metadata": {},
   "outputs": [],
   "source": [
    "top_failures = failed_users.count().sort_values(by=\"failure\", ascending=False).head(10)"
   ]
  },
  {
   "cell_type": "code",
   "execution_count": 34,
   "metadata": {},
   "outputs": [
    {
     "data": {
      "text/plain": [
       "<matplotlib.axes._axes.Axes at 0x7fcf805f2710>"
      ]
     },
     "execution_count": 34,
     "metadata": {},
     "output_type": "execute_result"
    },
    {
     "data": {
      "image/png": "[encoded data removed]",
      "text/plain": [
       "<Figure size 1080x720 with 1 Axes>"
      ]
     },
     "metadata": {
      "needs_background": "light"
     },
     "output_type": "display_data"
    }
   ],
   "source": [
    "fig = plt.figure(2,figsize=(15,10))\n",
    "ax = fig.add_axes([0,0,1,1])\n",
    "ax.set_title(\"Top 10 logon failures\")\n",
    "sns.barplot(x=top_failures.index, y=top_failures[\"failure\"], ax=ax)"
   ]
  },
  {
   "cell_type": "markdown",
   "metadata": {},
   "source": [
    "This looks...suspicious. We could, if we wanted, go further and analyze web requests at that time to see other anomalous activity. We might also group by user _and_ IP to see if a pattern is established there."
   ]
  },
  {
   "cell_type": "markdown",
   "metadata": {},
   "source": [
    "### Threat Hunting\n",
    "\n",
    "One last thought on Jupyter and Infosec. Because we have access to Python's `requests` library, we can tie into any API we choose and correlate data with data from an API—for example, VirusTotal, Talos, or other Threat Intel platforms. "
   ]
  }
 ],
 "metadata": {
  "kernelspec": {
   "display_name": "Python 3",
   "language": "python",
   "name": "python3"
  },
  "language_info": {
   "codemirror_mode": {
    "name": "ipython",
    "version": 3
   },
   "file_extension": ".py",
   "mimetype": "text/x-python",
   "name": "python",
   "nbconvert_exporter": "python",
   "pygments_lexer": "ipython3",
   "version": "3.6.9"
  }
 },
 "nbformat": 4,
 "nbformat_minor": 4
}
